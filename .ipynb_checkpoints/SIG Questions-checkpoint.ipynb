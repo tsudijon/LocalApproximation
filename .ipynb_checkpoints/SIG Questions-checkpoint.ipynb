{
 "cells": [
  {
   "cell_type": "markdown",
   "metadata": {},
   "source": [
    "- Suppose two people are doing chores; there are N chores, each taking 1,...,N minutes each. Each person randomly picks a chore, and if they finish a chore at the same time, then they go out to eat. What's the expected time before you go out?\n",
    "\n",
    "- Suppose you have n lily pads in a ring. There is a frog that moves left and right with probability 1/2 each. What's the expected time by which the frog visits all the pads?\n",
    "\n",
    "- Given an RV X with mean x, std a, and RV Y with mean y with std b, suppose that X+Y = c. What are the expected values of X,Y?"
   ]
  },
  {
   "cell_type": "code",
   "execution_count": 88,
   "metadata": {
    "collapsed": true
   },
   "outputs": [],
   "source": [
    "import numpy as np\n",
    "import matplotlib.pyplot as plt\n",
    "\n",
    "def sample(N):\n",
    "    return np.random.choice(range(1,N+1))\n",
    "\n",
    "def simulate(N):\n",
    "    x = [sample(N)]\n",
    "    sum_x = sum(x)\n",
    "    y = [sample(N)]\n",
    "    sum_y = sum(y)\n",
    "    while sum_x != sum_y:\n",
    "        while sum_x > sum_y:\n",
    "            y = y + [sample(N)]\n",
    "            sum_y = sum(y)\n",
    "        while sum_y > sum_x:\n",
    "            x = x + [sample(N)]\n",
    "            sum_x = sum(x)\n",
    "    return sum_x\n",
    "\n",
    "def get_mean(N):\n",
    "    res = []\n",
    "    length = 5000\n",
    "    for i in range(length):\n",
    "        res = res + [simulate(N)]\n",
    "    return np.array(res).mean()"
   ]
  },
  {
   "cell_type": "code",
   "execution_count": 107,
   "metadata": {},
   "outputs": [
    {
     "data": {
      "image/png": "[encoded data removed]",
      "text/plain": [
       "<matplotlib.figure.Figure at 0x11819f128>"
      ]
     },
     "metadata": {},
     "output_type": "display_data"
    }
   ],
   "source": [
    "N = 10\n",
    "means = [0]*N\n",
    "for j in range(1,N+1): \n",
    "    means[j-1] = get_mean(j)\n",
    "    \n",
    "plt.plot(np.array(means))\n",
    "plt.show()"
   ]
  },
  {
   "cell_type": "code",
   "execution_count": null,
   "metadata": {
    "collapsed": true
   },
   "outputs": [],
   "source": []
  }
 ],
 "metadata": {
  "kernelspec": {
   "display_name": "Python 3",
   "language": "python",
   "name": "python3"
  },
  "language_info": {
   "codemirror_mode": {
    "name": "ipython",
    "version": 3
   },
   "file_extension": ".py",
   "mimetype": "text/x-python",
   "name": "python",
   "nbconvert_exporter": "python",
   "pygments_lexer": "ipython3",
   "version": "3.6.1"
  }
 },
 "nbformat": 4,
 "nbformat_minor": 2
}
