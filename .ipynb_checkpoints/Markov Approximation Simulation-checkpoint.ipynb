{
 "cells": [
  {
   "cell_type": "markdown",
   "metadata": {},
   "source": [
    "# Simulation Description\n",
    "We would like to answer if the nonlinear local dynamics for the contact process has a stationary distribution, in particular a distribution that solves its associated nonlinear Markov chain. If $\\pi \\in \\mathcal{P}([0,1]^3)$ denotes the distribution of the process at some time, then we want to understand the fixed point equation\n",
    "$$\n",
    "\\pi = \\pi Q^\\pi,\n",
    "$$\n",
    "where $Q$ is the transition kernel of the nonlinear Markov chain with dependence on $\\pi.$ To understand this, we would like to iterate the equation above as in $\\pi_{k+1} = \\pi_k Q^{\\pi_k}$ and see if some form of convergence holds.\n",
    "\n",
    "Of course, we understand that simulating this nonlinear Markov chain is infeasible since we require keeping track of the infinite history, as well as computing a conditional expectation. So we consider first the order $k$ Markov approximation, which requires that we only consider the past k states; this allows us to discretize our space $[0,1]^3$ into dyadic partitions and consider measures which are constant on these partitions. In this way we are able to compute conditional expectations nearly explicitly.\n",
    "\n",
    "The issue with transitioning with our nonlinear kernel starting from a measure constant on partitions $D_k,$ is that we obtain a measure that is constant on partitions $D_{k+1}.$ Simulating this measure would require us to keep track of exponentially many values, so what we do instead is to consider the transition kernel mapping to $D_{k+1},$ and then back to $D_k$ by averaging. This is the k order Markov approximation, so long as conditioning on a finite past is equivalent to conditioning on a finite past in the conditional expectation that appears in the transition kernel below. We look for stationary distributions of these dynamics. \n",
    "\n",
    "## Nonlinear Markov approximation"
   ]
  },
  {
   "cell_type": "markdown",
   "metadata": {},
   "source": [
    "# Defining Measures \n",
    "We want to work with measures that are constant on dyadic intervals."
   ]
  },
  {
   "cell_type": "code",
   "execution_count": 1,
   "metadata": {
    "collapsed": true
   },
   "outputs": [],
   "source": [
    "import numpy as np\n",
    "import itertools as itr\n",
    "def create_k_measure(vector,k):\n",
    "    \n",
    "    side = 2**k\n",
    "    # use numpy array to model this measure\n",
    "    measure = np.array(vector).reshape((side,side,side))\n",
    "    \n",
    "    # have to normalize this measure\n",
    "    return measure/measure.sum()\n",
    "    \n",
    "    \n",
    "def create_random_k_measure(k):\n",
    "    return create_k_measure(np.random.uniform(0,1,2**(3*k)),k)\n",
    "\n",
    "def smoothen(measure,k):\n",
    "    side_length = measure.shape[0]\n",
    "    assert side_length >= 2**k\n",
    "    \n",
    "    if side_length == 2**k:\n",
    "        return measure\n",
    "    \n",
    "    smoothed_measure = np.zeros(shape = (2**k,2**k,2**k))\n",
    "    smoothed_idxs = np.arange(0,2**k)\n",
    "    smoothed_length = int(side_length/(2**k))\n",
    "    for i,j,k in itr.product(smoothed_idxs,smoothed_idxs,smoothed_idxs):\n",
    "        smoothed_measure[i,j,k] = measure[(smoothed_length*i):(smoothed_length*(i+1)),\n",
    "                                          (smoothed_length*j):(smoothed_length*(j+1)),\n",
    "                                          (smoothed_length*k):(smoothed_length*(k+1))].sum()\n",
    "        \n",
    "    \n",
    "    return smoothed_measure"
   ]
  },
  {
   "cell_type": "markdown",
   "metadata": {},
   "source": [
    "# Defining the dynamics\n",
    "\n",
    "$\\newcommand{\\Prob}{\\mathbb{P}}\n",
    "\\DeclareMathOperator{\\Law}{Law}\n",
    "\\DeclareMathOperator{\\Ber}{Bernoulli}\n",
    "\\newcommand{\\set}[1]{\\lbrace #1\\rbrace}\n",
    "\\newcommand{\\ceil}[1]{\\left\\lceil #1 \\right\\rceil}\n",
    "\\newcommand{\\floor}[1]{\\left\\lfloor #1 \\right\\rfloor}\n",
    "\\newcommand{\\E}{\\mathbb{E}}$\n",
    "\n",
    "Recall that we can define our dynamics to be as follows:\n",
    "\n",
    "For $\\mathbf{x} = (\\mathbf{x}_{-1},\\mathbf{x}_0,\\mathbf{x}_1) \\in [0,1]^3$ we can write the transition kernel of the nonlinear Markov process as\n",
    "$$\n",
    "\\Prob^\\mu(\\mathbf{x},\\cdot) = \\operatorname{Law}(\\frac{1}{2}\\mathbf{x} + \\frac{1}{2}\\mathbf{v}(\\mathbf{x},\\mu)),\n",
    "$$\n",
    "where \n",
    "$$\n",
    "\\mathbf{v}(\\mathbf{x},\\mu) \\sim \\Ber(F_{(-1)}(\\mu,\\mathbf{x})) \\otimes \\Ber(F_{(0)}(\\mu,\\mathbf{x})) \\otimes \\Ber(F_{(1)}(\\mu,\\mathbf{x}))\n",
    "$$\n",
    "is a product measure, with the functionals $F_v(\\mu,\\mathbf{x}), v\\in V$ defined as follows:\n",
    "\\begin{align*}\n",
    "    F_{(0)}(\\mu,\\mathbf{x}) & = \\frac{p}{2} (\\floor{2\\mathbf{x}_{-1}} + \\floor{2\\mathbf{x}_{1}})\\mathbf{1}_{\\set{\\floor{2\\mathbf{x}_0} = 0}} + (1-q)\\mathbf{1}_{\\set{\\floor{2\\mathbf{x}_0} = 1}} \\\\\n",
    "    F_{(1)}(\\mu,\\mathbf{x}) & = \\frac{p}{2} (\\floor{2\\mathbf{x}_{0}} + \\E^{\\mathbf{y} \\sim \\mu}[ \\ \\floor{2\\mathbf{y}_1} \\ | \\ \\mathbf{y}_0 = \\mathbf{x}_1, \\mathbf{y}_{-1} = \\mathbf{x}_0])\\mathbf{1}_{\\set{\\floor{2\\mathbf{x}_1} = 0}} + (1-q)\\mathbf{1}_{\\set{\\floor{2\\mathbf{x}_1} = 1}} \\\\\n",
    "    F_{(-1)}(\\mu,\\mathbf{x}) & = \\frac{p}{2} (\\floor{2\\mathbf{x}_{0}} + \\E^{\\mathbf{y} \\sim \\mu}[ \\ \\floor{2\\mathbf{y}_{-1}} \\ | \\ \\mathbf{y}_0 = \\mathbf{x}_{-1}, \\mathbf{y}_1 = \\mathbf{x}_0])\\mathbf{1}_{\\set{\\floor{2\\mathbf{x}_{-1}} = 0}} + (1-q)\\mathbf{1}_{\\set{\\floor{2\\mathbf{x}_{-1}} = 1}} \n",
    "\\end{align*}\n",
    "\n",
    "The difficult part of simulating these dynamics in the general case is to compute the conditional expectation, whereupon we fix the values of two of the coordinates, and compute a functional of the third coordinate with respect to this conditioning. This is made easier in the order $k$ Markov approximation case, since we are conditioning with respect to unions of cubes in the dyadic partition rather than lines of measure zero, which would have been the case in the original dynamics."
   ]
  },
  {
   "cell_type": "code",
   "execution_count": 2,
   "metadata": {
    "collapsed": true
   },
   "outputs": [],
   "source": [
    "# We can define the current state with respect to the measure itself, by specifying the indices.\n",
    "def compute_conditional_expectation(measure, case, current_state):\n",
    "    side_length = measure.shape[0]\n",
    "    expectation = 0\n",
    "    if case == 1:\n",
    "        conditioned_measure = measure[current_state[1],current_state[2],:]\n",
    "        if conditioned_measure.sum() != 0:\n",
    "            conditioned_measure = conditioned_measure/conditioned_measure.sum()\n",
    "        expectation = sum([prob for idx,prob in enumerate(conditioned_measure) if idx >= side_length/2])\n",
    "        \n",
    "    elif case == -1:\n",
    "        conditioned_measure = measure[:,current_state[0],current_state[1]]\n",
    "        if conditioned_measure.sum() != 0:\n",
    "            conditioned_measure = conditioned_measure/conditioned_measure.sum()\n",
    "        expectation = sum([prob for idx,prob in enumerate(conditioned_measure) if idx >= side_length/2])\n",
    "        \n",
    "    else: \n",
    "        print('case should be either 1,-1.')\n",
    "        \n",
    "    return expectation\n",
    "    \n",
    "# computes the functionals above.  \n",
    "def compute_functionals(measure, coordinate, current_state,p,q):\n",
    "    side_length = measure.shape[0]\n",
    "    midpoint_idx = int(side_length/2)\n",
    "    functional = 0\n",
    "    \n",
    "    if coordinate == 0:\n",
    "        functional = (p/2)*int(current_state[1] < midpoint_idx)* \\\n",
    "            ((current_state[2] >= midpoint_idx) + (current_state[0] >= midpoint_idx)) + \\\n",
    "            int(current_state[1] >= midpoint_idx)*(1-q)\n",
    "            \n",
    "    elif coordinate == -1:\n",
    "        functional = (p/2)*int(current_state[0] < midpoint_idx)* \\\n",
    "            ((current_state[1] >= midpoint_idx) + compute_conditional_expectation(measure,-1,current_state)) + \\\n",
    "            int(current_state[0] >= midpoint_idx)*(1-q)\n",
    "            \n",
    "    elif coordinate == 1:\n",
    "        functional = (p/2)*int(current_state[2] < midpoint_idx)* \\\n",
    "            ((current_state[1] >= midpoint_idx) + compute_conditional_expectation(measure,1,current_state)) + \\\n",
    "            int(current_state[2] >= midpoint_idx)*(1-q)\n",
    "    else:\n",
    "        print(\"coordinate should be one of -1,0,1\")\n",
    "        \n",
    "    return functional\n",
    "\n",
    "# computes transition probability \n",
    "# transition map is a 3-tuple in {0,1}^3, which describes how to transition to the next state\n",
    "# it is the vector v above\n",
    "def compute_transition_probability(measure, current_state, transition_map, p,q):\n",
    "    \n",
    "    probs = [0]*3\n",
    "    for i in range(3):\n",
    "        probs[i] = compute_functionals(measure, i-1, current_state, p, q)\n",
    "    \n",
    "    probs = np.array(probs)\n",
    "    m = np.array([1-probs,probs])\n",
    "    \n",
    "    return np.product(m[transition_map,range(3)])\n",
    "\n",
    "# returns another measure, of the same discretization\n",
    "def transition(measure,p,q):\n",
    "    side_length = measure.shape[0]\n",
    "    new_side_length = 2*side_length\n",
    "    new_measure = np.zeros([new_side_length]*3)\n",
    "    \n",
    "    # transition for each element in the old measure\n",
    "    for i,j,k in itr.product(range(side_length),range(side_length),range(side_length)):\n",
    "        for transition in list(itr.product([0,1],[0,1],[0,1])):\n",
    "            \n",
    "            transition_prob = compute_transition_probability(measure, [i,j,k], transition, p,q)\n",
    "            new_coordinates = np.array([i,j,k]) + side_length*np.array(transition)\n",
    "            new_measure[tuple(new_coordinates)] = \\\n",
    "                new_measure[tuple(new_coordinates)] + \\\n",
    "                measure[i,j,k]*transition_prob \n",
    "    \n",
    "    return smoothen(new_measure, int(np.log2(side_length)))"
   ]
  },
  {
   "cell_type": "markdown",
   "metadata": {},
   "source": [
    "# Investigate Convergence Properties:\n",
    "We iterate this process, and analyze convergence. We can only really consider up to $k=4$, in which case we need to keep track of $(2^4)^3$ items, which takes quite a while to simulate.\n",
    "\n",
    "This is a nonlinear Markov process; we should check the conditions for unique ergodicity in this case"
   ]
  },
  {
   "cell_type": "code",
   "execution_count": 22,
   "metadata": {
    "collapsed": true
   },
   "outputs": [],
   "source": [
    "import matplotlib.pyplot as plt\n",
    "import pandas as pd\n",
    "\n",
    "def simulate_nonlinear_dynamics(initial_measure,p,q):\n",
    "    mu_0 = initial_measure\n",
    "    mu_current = mu_0\n",
    "\n",
    "    consec_diff = []\n",
    "    while True:\n",
    "        mu_next = transition(mu_current,p,q)\n",
    "        consec_diff = consec_diff + [np.sqrt(((mu_next - mu_current)**2).sum())] \n",
    "        mu_current = mu_next\n",
    "        if consec_diff[-1] < 1e-10:\n",
    "            break\n",
    "\n",
    "    return (consec_diff, mu_current)\n",
    "\n",
    "def simulate_nonlinear_dynamics_for_fixed_steps(initial_measure,p,q,steps):\n",
    "    mu_0 = initial_measure\n",
    "    mu_current = mu_0\n",
    "\n",
    "    consec_diff = []\n",
    "    for i in range(steps):\n",
    "        mu_next = transition(mu_current,p,q)\n",
    "        consec_diff = consec_diff + [np.sqrt(((mu_next - mu_current)**2).sum())] \n",
    "        mu_current = mu_next\n",
    "\n",
    "    return (consec_diff, mu_current)\n",
    "\n",
    "def l2norm(x,y):\n",
    "    return np.sqrt(((x-y)**2).sum())"
   ]
  },
  {
   "cell_type": "markdown",
   "metadata": {},
   "source": [
    "## Convergence as a function of k\n",
    "We count the average number of iterations it takes for the consecutive $\\mathbb{L}^2$ differences of the measures, viewed as vectors, to be less than $10^{-10}.$ We average this over multiple initializations of the starting measure."
   ]
  },
  {
   "cell_type": "code",
   "execution_count": 683,
   "metadata": {
    "collapsed": true
   },
   "outputs": [],
   "source": [
    "num_measures = 5\n",
    "p = 0.5; q = 0.5\n",
    "K = 5\n",
    "\n",
    "Simulation_lengths = pd.DataFrame(index = range(1,1+num_measures) , columns = range(1,K+1) )\n",
    "for i in range(num_measures):\n",
    "    for k in range(K):\n",
    "        results = simulate_nonlinear_dynamics(create_random_k_measure(k),p,q)\n",
    "        Simulation_lengths.iloc[i,k] = len(results[0]) "
   ]
  },
  {
   "cell_type": "code",
   "execution_count": 684,
   "metadata": {},
   "outputs": [
    {
     "name": "stdout",
     "output_type": "stream",
     "text": [
      "1     1.0\n",
      "2    94.6\n",
      "3    94.4\n",
      "4    95.0\n",
      "5    96.2\n",
      "dtype: float64\n",
      "1    0.000000\n",
      "2    0.547723\n",
      "3    0.547723\n",
      "4    0.000000\n",
      "5    0.447214\n",
      "dtype: float64\n"
     ]
    }
   ],
   "source": [
    "Simulation_lengths.columns = list(\"12345\")\n",
    "lengths = Simulation_lengths.melt().astype(np.float)\n",
    "print(Simulation_lengths.mean())\n",
    "print(Simulation_lengths.std())"
   ]
  },
  {
   "cell_type": "code",
   "execution_count": 685,
   "metadata": {},
   "outputs": [
    {
     "data": {
      "image/png": "[encoded data removed]",
      "text/plain": [
       "<matplotlib.figure.Figure at 0x1121e7898>"
      ]
     },
     "metadata": {},
     "output_type": "display_data"
    }
   ],
   "source": [
    "boxplot = lengths.boxplot(column = 'value', by = 'variable')\n",
    "plt.show()"
   ]
  },
  {
   "cell_type": "markdown",
   "metadata": {},
   "source": [
    "## Do marginals of measures agree?"
   ]
  },
  {
   "cell_type": "code",
   "execution_count": 686,
   "metadata": {
    "collapsed": true
   },
   "outputs": [],
   "source": [
    "p = 0.5; q= 0.5\n",
    "K = 5\n",
    "fixedpoints = [0]*K\n",
    "for k in range(1,K+1):\n",
    "    fixedpoints[k-1] = simulate_nonlinear_dynamics(create_random_k_measure(k),p,q)[1]"
   ]
  },
  {
   "cell_type": "code",
   "execution_count": 687,
   "metadata": {},
   "outputs": [
    {
     "name": "stdout",
     "output_type": "stream",
     "text": [
      "Distance between 0 stationary measure and marginal of the 5 stationary measure: 0.000000 \n",
      "Distance between 1 stationary measure and marginal of the 5 stationary measure: 0.000000 \n",
      "Distance between 2 stationary measure and marginal of the 5 stationary measure: 0.000000 \n",
      "Distance between 3 stationary measure and marginal of the 5 stationary measure: 0.000000 \n",
      "Distance between 4 stationary measure and marginal of the 5 stationary measure: 0.000000 \n"
     ]
    }
   ],
   "source": [
    "for k in range(K):\n",
    "    print(\"Distance between %s stationary measure and marginal of the %s stationary measure: %f \"%(k,K, \\\n",
    "          l2norm(fixedpoints[k],smoothen(fixedpoints[4],k+1))))"
   ]
  },
  {
   "cell_type": "code",
   "execution_count": 688,
   "metadata": {},
   "outputs": [
    {
     "name": "stdout",
     "output_type": "stream",
     "text": [
      "[[[  9.99999958e-01   1.10253884e-08]\n",
      "  [  8.20067081e-09   4.44613447e-09]]\n",
      "\n",
      " [[  1.10253884e-08   1.62141685e-09]\n",
      "  [  4.44613447e-09   1.62141682e-09]]]\n"
     ]
    }
   ],
   "source": [
    "print(fixedpoints[0])"
   ]
  },
  {
   "cell_type": "markdown",
   "metadata": {},
   "source": [
    "## Investigate convergence as a function of the parameters\n",
    "Characterize time it takes to converge as a function of the parameters"
   ]
  },
  {
   "cell_type": "code",
   "execution_count": 691,
   "metadata": {
    "collapsed": true
   },
   "outputs": [],
   "source": [
    "values = np.zeros((10,10))\n",
    "for i,j in itr.product(np.arange(10),np.arange(10)):\n",
    "    p = i/10; q = j/10\n",
    "    values[i,j] = len(simulate_nonlinear_dynamics(create_random_k_measure(2),p,q)[0])"
   ]
  },
  {
   "cell_type": "code",
   "execution_count": 692,
   "metadata": {
    "scrolled": false
   },
   "outputs": [
    {
     "name": "stdout",
     "output_type": "stream",
     "text": [
      "[[  2.00000000e+00   1.60000000e+02   8.00000000e+01   5.20000000e+01\n",
      "    3.80000000e+01   2.90000000e+01   2.20000000e+01   1.80000000e+01\n",
      "    1.40000000e+01   1.10000000e+01]\n",
      " [  3.12000000e+02   3.77000000e+02   1.24000000e+02   7.10000000e+01\n",
      "    4.90000000e+01   3.60000000e+01   2.80000000e+01   2.20000000e+01\n",
      "    1.70000000e+01   1.40000000e+01]\n",
      " [  1.56000000e+02   1.67000000e+03   2.00000000e+02   9.80000000e+01\n",
      "    6.30000000e+01   4.50000000e+01   3.40000000e+01   2.60000000e+01\n",
      "    2.10000000e+01   1.70000000e+01]\n",
      " [  1.01000000e+02   5.90000000e+02   3.72000000e+02   1.40000000e+02\n",
      "    8.20000000e+01   5.60000000e+01   4.10000000e+01   3.20000000e+01\n",
      "    2.60000000e+01   2.10000000e+01]\n",
      " [  7.40000000e+01   1.85000000e+02   1.22500000e+03   2.17000000e+02\n",
      "    1.10000000e+02   7.10000000e+01   5.10000000e+01   3.90000000e+01\n",
      "    3.10000000e+01   2.60000000e+01]\n",
      " [  6.00000000e+01   1.14000000e+02   7.71000000e+02   4.06000000e+02\n",
      "    1.59000000e+02   9.50000000e+01   6.50000000e+01   4.90000000e+01\n",
      "    3.90000000e+01   3.20000000e+01]\n",
      " [  5.30000000e+01   8.10000000e+01   2.22000000e+02   1.78500000e+03\n",
      "    2.61000000e+02   1.33000000e+02   8.70000000e+01   6.30000000e+01\n",
      "    4.90000000e+01   4.10000000e+01]\n",
      " [  4.90000000e+01   6.00000000e+01   1.13000000e+02   5.50000000e+02\n",
      "    5.94000000e+02   2.08000000e+02   1.22000000e+02   8.50000000e+01\n",
      "    6.60000000e+01   5.50000000e+01]\n",
      " [  3.80000000e+01   4.60000000e+01   8.10000000e+01   1.93000000e+02\n",
      "    1.77200000e+03   4.24000000e+02   1.94000000e+02   1.25000000e+02\n",
      "    9.30000000e+01   7.90000000e+01]\n",
      " [  4.10000000e+01   4.00000000e+01   6.20000000e+01   9.10000000e+01\n",
      "    2.83000000e+02   4.83960000e+04   4.13000000e+02   2.15000000e+02\n",
      "    1.52000000e+02   1.30000000e+02]]\n"
     ]
    }
   ],
   "source": [
    "print(values)"
   ]
  },
  {
   "cell_type": "markdown",
   "metadata": {},
   "source": [
    "## Check dependence on initial measure\n",
    "There seems to be a unique stationary distribution, other than 0."
   ]
  },
  {
   "cell_type": "code",
   "execution_count": 689,
   "metadata": {
    "collapsed": true
   },
   "outputs": [],
   "source": [
    "l2norms = [0]*50\n",
    "stat_measures = [0]*50\n",
    "for i in range(50):\n",
    "    stat_measures[i] = simulate_nonlinear_dynamics(create_random_k_measure(3),0.5,0.5)[1]\n",
    "    l2norms[i] = np.sqrt((stat_measures[i]**2).sum())"
   ]
  },
  {
   "cell_type": "code",
   "execution_count": 690,
   "metadata": {},
   "outputs": [
    {
     "name": "stdout",
     "output_type": "stream",
     "text": [
      "0.999999958275 0.999999950361\n"
     ]
    }
   ],
   "source": [
    "print(max(l2norms),min(l2norms))"
   ]
  },
  {
   "cell_type": "markdown",
   "metadata": {},
   "source": [
    "### Is zero a fixed point?\n",
    "Yes it is. "
   ]
  },
  {
   "cell_type": "code",
   "execution_count": 670,
   "metadata": {
    "collapsed": true
   },
   "outputs": [],
   "source": [
    "k = 2\n",
    "measure = np.zeros(shape = (2**k,2**k,2**k))\n",
    "# Perturb the zero measure:\n",
    "measure[0,0,0] = 1"
   ]
  },
  {
   "cell_type": "code",
   "execution_count": 673,
   "metadata": {},
   "outputs": [
    {
     "data": {
      "text/plain": [
       "array([[[ 1.,  0.,  0.,  0.],\n",
       "        [ 0.,  0.,  0.,  0.],\n",
       "        [ 0.,  0.,  0.,  0.],\n",
       "        [ 0.,  0.,  0.,  0.]],\n",
       "\n",
       "       [[ 0.,  0.,  0.,  0.],\n",
       "        [ 0.,  0.,  0.,  0.],\n",
       "        [ 0.,  0.,  0.,  0.],\n",
       "        [ 0.,  0.,  0.,  0.]],\n",
       "\n",
       "       [[ 0.,  0.,  0.,  0.],\n",
       "        [ 0.,  0.,  0.,  0.],\n",
       "        [ 0.,  0.,  0.,  0.],\n",
       "        [ 0.,  0.,  0.,  0.]],\n",
       "\n",
       "       [[ 0.,  0.,  0.,  0.],\n",
       "        [ 0.,  0.,  0.,  0.],\n",
       "        [ 0.,  0.,  0.,  0.],\n",
       "        [ 0.,  0.,  0.,  0.]]])"
      ]
     },
     "execution_count": 673,
     "metadata": {},
     "output_type": "execute_result"
    }
   ],
   "source": [
    "measure = transition(measure,0.5,0.5)\n",
    "measure"
   ]
  },
  {
   "cell_type": "markdown",
   "metadata": {
    "collapsed": true
   },
   "source": [
    "### Investigate the high infection rate case:\n",
    "It has a different stationary measure than the zero mass!"
   ]
  },
  {
   "cell_type": "code",
   "execution_count": 23,
   "metadata": {},
   "outputs": [
    {
     "data": {
      "text/plain": [
       "array([[[  3.52892275e-04,   3.57189403e-03],\n",
       "        [  2.61758336e-03,   4.71861773e-02]],\n",
       "\n",
       "       [[  3.57189403e-03,   4.62318667e-02],\n",
       "        [  4.71861773e-02,   8.49281515e-01]]])"
      ]
     },
     "execution_count": 23,
     "metadata": {},
     "output_type": "execute_result"
    }
   ],
   "source": [
    "p = 0.95; q= 0.05\n",
    "simulate_nonlinear_dynamics(create_random_k_measure(1),p,q)[1]"
   ]
  },
  {
   "cell_type": "markdown",
   "metadata": {},
   "source": [
    "### How does the ratio of p/q affect the stationary distribution?"
   ]
  },
  {
   "cell_type": "code",
   "execution_count": 25,
   "metadata": {},
   "outputs": [
    {
     "data": {
      "text/plain": [
       "array([[[  1.95240302e-05,   5.48724210e-04],\n",
       "        [  4.07840474e-04,   1.95807946e-02]],\n",
       "\n",
       "       [[  5.48724210e-04,   1.94399108e-02],\n",
       "        [  1.95807946e-02,   9.39873687e-01]]])"
      ]
     },
     "execution_count": 25,
     "metadata": {},
     "output_type": "execute_result"
    }
   ],
   "source": [
    "p = 0.98; q= 0.02\n",
    "simulate_nonlinear_dynamics(create_random_k_measure(1),p,q)[1]"
   ]
  },
  {
   "cell_type": "code",
   "execution_count": 36,
   "metadata": {},
   "outputs": [
    {
     "data": {
      "text/plain": [
       "array([[[  3.01265372e-04,   3.22970969e-03],\n",
       "        [  2.36953606e-03,   4.50813699e-02]],\n",
       "\n",
       "       [[  3.22970969e-03,   4.42211963e-02],\n",
       "        [  4.50813699e-02,   8.56485843e-01]]])"
      ]
     },
     "execution_count": 36,
     "metadata": {},
     "output_type": "execute_result"
    }
   ],
   "source": [
    "ratio = 20\n",
    "p = ratio/(1+ratio); q= 1/(1+ratio)\n",
    "simulate_nonlinear_dynamics(create_random_k_measure(1),p,q)[1]"
   ]
  },
  {
   "cell_type": "code",
   "execution_count": 32,
   "metadata": {},
   "outputs": [
    {
     "data": {
      "text/plain": [
       "array([[[ 0.02492492,  0.04432234],\n",
       "        [ 0.03052379,  0.12460167]],\n",
       "\n",
       "       [[ 0.04432234,  0.11080312],\n",
       "        [ 0.12460167,  0.49590016]]])"
      ]
     },
     "execution_count": 32,
     "metadata": {},
     "output_type": "execute_result"
    }
   ],
   "source": [
    "ratio = 5\n",
    "p = ratio/(1+ratio); q= 1/(1+ratio)\n",
    "simulate_nonlinear_dynamics(create_random_k_measure(1),p,q)[1]"
   ]
  },
  {
   "cell_type": "code",
   "execution_count": 33,
   "metadata": {},
   "outputs": [
    {
     "data": {
      "text/plain": [
       "array([[[ 0.82569618,  0.03514778],\n",
       "        [ 0.02153145,  0.0248539 ]],\n",
       "\n",
       "       [[ 0.03514778,  0.01123757],\n",
       "        [ 0.0248539 ,  0.02153145]]])"
      ]
     },
     "execution_count": 33,
     "metadata": {},
     "output_type": "execute_result"
    }
   ],
   "source": [
    "ratio = 2\n",
    "p = ratio/(1+ratio); q= 1/(1+ratio)\n",
    "simulate_nonlinear_dynamics(create_random_k_measure(1),p,q)[1]"
   ]
  },
  {
   "cell_type": "code",
   "execution_count": 37,
   "metadata": {},
   "outputs": [
    {
     "data": {
      "text/plain": [
       "array([[[  9.99999995e-01,   1.11241999e-09],\n",
       "        [  7.00299535e-10,   6.85498107e-10]],\n",
       "\n",
       "       [[  1.11241999e-09,   2.73377656e-10],\n",
       "        [  6.85498107e-10,   4.78410898e-10]]])"
      ]
     },
     "execution_count": 37,
     "metadata": {},
     "output_type": "execute_result"
    }
   ],
   "source": [
    "ratio = 1.75\n",
    "p = ratio/(1+ratio); q= 1/(1+ratio)\n",
    "simulate_nonlinear_dynamics(create_random_k_measure(1),p,q)[1]"
   ]
  },
  {
   "cell_type": "code",
   "execution_count": 34,
   "metadata": {},
   "outputs": [
    {
     "data": {
      "text/plain": [
       "array([[[  9.99999998e-01,   3.83376086e-10],\n",
       "        [  2.54278827e-10,   2.11471843e-10]],\n",
       "\n",
       "       [[  3.83376086e-10,   8.23745845e-11],\n",
       "        [  2.11471843e-10,   1.23561877e-10]]])"
      ]
     },
     "execution_count": 34,
     "metadata": {},
     "output_type": "execute_result"
    }
   ],
   "source": [
    "ratio = 1.5\n",
    "p = ratio/(1+ratio); q= 1/(1+ratio)\n",
    "simulate_nonlinear_dynamics(create_random_k_measure(1),p,q)[1]"
   ]
  },
  {
   "cell_type": "code",
   "execution_count": 35,
   "metadata": {},
   "outputs": [
    {
     "data": {
      "text/plain": [
       "array([[[  1.00000000e+00,   1.07535698e-10],\n",
       "        [  7.99849244e-11,   4.33651996e-11]],\n",
       "\n",
       "       [[  1.07535698e-10,   1.58144255e-11],\n",
       "        [  4.33651996e-11,   1.58144255e-11]]])"
      ]
     },
     "execution_count": 35,
     "metadata": {},
     "output_type": "execute_result"
    }
   ],
   "source": [
    "ratio = 1\n",
    "p = ratio/(1+ratio); q= 1/(1+ratio)\n",
    "simulate_nonlinear_dynamics(create_random_k_measure(1),p,q)[1]"
   ]
  },
  {
   "cell_type": "code",
   "execution_count": 53,
   "metadata": {},
   "outputs": [],
   "source": [
    "# Is there a phase change in the ratio?\n",
    "def norm(matrix):\n",
    "    return np.sqrt(np.sum(matrix**2))\n",
    "\n",
    "\n",
    "differences_from_zero_mass = np.zeros((1,50))\n",
    "ratios = np.linspace(1,2,50)\n",
    "zero_mass = np.zeros((2,2,2)); zero_mass[0,0,0] = 1\n",
    "for i in range(len(ratios)):\n",
    "    p = ratios[i]/(1+ratios[i]); q= 1/(1+ratios[i])\n",
    "    differences_from_zero_mass[0,i] = norm(simulate_nonlinear_dynamics(create_random_k_measure(1),p,q)[1] - zero_mass)"
   ]
  },
  {
   "cell_type": "code",
   "execution_count": 61,
   "metadata": {},
   "outputs": [
    {
     "data": {
      "image/png": "[encoded data removed]",
      "text/plain": [
       "<matplotlib.figure.Figure at 0x116b13198>"
      ]
     },
     "metadata": {},
     "output_type": "display_data"
    }
   ],
   "source": [
    "plt.plot(ratios,differences_from_zero_mass[0,:])\n",
    "plt.show()"
   ]
  },
  {
   "cell_type": "code",
   "execution_count": null,
   "metadata": {
    "collapsed": true
   },
   "outputs": [],
   "source": []
  }
 ],
 "metadata": {
  "kernelspec": {
   "display_name": "Python 3",
   "language": "python",
   "name": "python3"
  },
  "language_info": {
   "codemirror_mode": {
    "name": "ipython",
    "version": 3
   },
   "file_extension": ".py",
   "mimetype": "text/x-python",
   "name": "python",
   "nbconvert_exporter": "python",
   "pygments_lexer": "ipython3",
   "version": "3.6.1"
  }
 },
 "nbformat": 4,
 "nbformat_minor": 2
}
